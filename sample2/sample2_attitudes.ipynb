{
 "cells": [
  {
   "cell_type": "code",
   "execution_count": 1,
   "metadata": {},
   "outputs": [
    {
     "name": "stdout",
     "output_type": "stream",
     "text": [
      "406786\n",
      "sociodemographics pushed\n",
      "attitudes pushed\n"
     ]
    },
    {
     "data": {
      "text/plain": [
       "True"
      ]
     },
     "execution_count": 1,
     "metadata": {},
     "output_type": "execute_result"
    }
   ],
   "source": [
    "from sample2.import_istat_attitudes_2018 import Istat\n",
    "\n",
    "obj = Istat()\n",
    "\n",
    "sample = obj.run()\n",
    "\n",
    "body = [{\n",
    "    \"sample_source\" : \"Italian Institution of Statistics\",\n",
    "    \"sample_date\" : \"01/01/2018\",\n",
    "    \"sample\" : sample\n",
    "}]\n",
    "\n",
    "from insert_samples import Insert\n",
    "\n",
    "obj = Insert()\n",
    "\n",
    "obj.run(body=body)"
   ]
  },
  {
   "cell_type": "code",
   "execution_count": 1,
   "metadata": {},
   "outputs": [
    {
     "name": "stdout",
     "output_type": "stream",
     "text": [
      "419273\n",
      "sociodemographics pushed\n",
      "attitudes pushed\n"
     ]
    },
    {
     "data": {
      "text/plain": [
       "True"
      ]
     },
     "execution_count": 1,
     "metadata": {},
     "output_type": "execute_result"
    }
   ],
   "source": [
    "from sample2.import_istat_attitudes_2019 import Istat\n",
    "\n",
    "obj = Istat()\n",
    "\n",
    "sample = obj.run()\n",
    "\n",
    "body = [{\n",
    "    \"sample_source\" : \"Italian Institution of Statistics\",\n",
    "    \"sample_date\" : \"01/01/2019\",\n",
    "    \"sample\" : sample\n",
    "}]\n",
    "\n",
    "from insert_samples import Insert\n",
    "\n",
    "obj = Insert()\n",
    "\n",
    "obj.run(body=body)"
   ]
  },
  {
   "cell_type": "code",
   "execution_count": 2,
   "metadata": {},
   "outputs": [
    {
     "name": "stdout",
     "output_type": "stream",
     "text": [
      "395437\n",
      "sociodemographics pushed\n",
      "attitudes pushed\n"
     ]
    },
    {
     "data": {
      "text/plain": [
       "True"
      ]
     },
     "execution_count": 2,
     "metadata": {},
     "output_type": "execute_result"
    }
   ],
   "source": [
    "from sample2.import_istat_attitudes_2020 import Istat\n",
    "\n",
    "obj = Istat()\n",
    "\n",
    "sample = obj.run()\n",
    "\n",
    "body = [{\n",
    "    \"sample_source\" : \"Italian Institution of Statistics\",\n",
    "    \"sample_date\" : \"01/01/2020\",\n",
    "    \"sample\" : sample\n",
    "}]\n",
    "\n",
    "from insert_samples import Insert\n",
    "\n",
    "obj = Insert()\n",
    "\n",
    "obj.run(body=body)"
   ]
  },
  {
   "cell_type": "code",
   "execution_count": null,
   "metadata": {},
   "outputs": [],
   "source": []
  },
  {
   "cell_type": "code",
   "execution_count": null,
   "metadata": {},
   "outputs": [],
   "source": []
  }
 ],
 "metadata": {
  "kernelspec": {
   "display_name": "Python 3",
   "language": "python",
   "name": "python3"
  },
  "language_info": {
   "codemirror_mode": {
    "name": "ipython",
    "version": 3
   },
   "file_extension": ".py",
   "mimetype": "text/x-python",
   "name": "python",
   "nbconvert_exporter": "python",
   "pygments_lexer": "ipython3",
   "version": "3.7.9 (v3.7.9:13c94747c7, Aug 15 2020, 01:31:08) \n[Clang 6.0 (clang-600.0.57)]"
  },
  "orig_nbformat": 4,
  "vscode": {
   "interpreter": {
    "hash": "aee8b7b246df8f9039afb4144a1f6fd8d2ca17a180786b69acc140d282b71a49"
   }
  }
 },
 "nbformat": 4,
 "nbformat_minor": 2
}
